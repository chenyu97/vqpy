{
 "cells": [
  {
   "cell_type": "code",
   "execution_count": null,
   "metadata": {},
   "outputs": [],
   "source": [
    "\"\"\"This is a demo VQPy implementation listing and storing all red moving\n",
    "vehicles to a json file.\"\"\"\n",
    "\n",
    "from typing import Optional\n",
    "import argparse\n",
    "import numpy as np\n",
    "import vqpy\n",
    "import cv2\n",
    "\n",
    "@vqpy.vqpy_func_logger(['image'], ['major_color_rgb'], [], required_length=1)\n",
    "def get_image_color(obj, image: Optional[np.ndarray]) -> str:\n",
    "    import webcolors\n",
    "    from colordetect import ColorDetect\n",
    "\n",
    "    class BindedColorDetect(ColorDetect):\n",
    "        def _find_unique_colors(self, cluster, centroids) -> dict:\n",
    "            labels = np.arange(0, len(np.unique(cluster.labels_)) + 1)\n",
    "            (hist, _) = np.histogram(cluster.labels_, bins=labels)\n",
    "            hist = hist.astype(\"float\")\n",
    "            hist /= hist.sum()\n",
    "\n",
    "            # iterate through each cluster's color and percentage\n",
    "            colors = sorted(\n",
    "                [(percent * 100, color)\n",
    "                 for (percent, color) in zip(hist, centroids)],\n",
    "                key=lambda x: (x[0], x[1].tolist())\n",
    "            )\n",
    "\n",
    "            for (percent, color) in colors:\n",
    "                color.astype(\"uint8\").tolist()\n",
    "            return dict(colors)\n",
    "\n",
    "    if image is None:\n",
    "        return [None]\n",
    "\n",
    "    maximum_width = 16\n",
    "    ratio = max(maximum_width / image.shape[0], maximum_width / image.shape[1])\n",
    "    if ratio < 1:\n",
    "        size = (int(image.shape[0] * ratio + 0.5),\n",
    "                int(image.shape[1] * ratio + 0.5))\n",
    "        image = cv2.resize(image, size, interpolation=cv2.INTER_LINEAR)\n",
    "    detector = BindedColorDetect(image)\n",
    "    result = detector.get_color_count()\n",
    "    bestrgb, bestp = None, 0\n",
    "    for color, percent in result.items():\n",
    "        rgb = webcolors.name_to_rgb(color)\n",
    "        if max(*rgb) - min(*rgb) <= 15:\n",
    "            percent /= 5\n",
    "        if percent > bestp:\n",
    "            bestrgb, bestp = rgb, percent\n",
    "    return [bestrgb]\n",
    "\n",
    "class Vehicle(vqpy.VObjBase):\n",
    "    \"\"\"The class of vehicles\"\"\"\n",
    "    required_fields = ['class_id', 'tlbr']\n",
    "\n",
    "    @vqpy.property()\n",
    "    @vqpy.postproc({'majority': 100})\n",
    "    def license_plate(self):\n",
    "        \"\"\"The license plate of the vehicle\"\"\"\n",
    "        return self.infer('license_plate', {'license_plate': 'openalpr'})"
   ]
  },
  {
   "cell_type": "code",
   "execution_count": null,
   "metadata": {},
   "outputs": [],
   "source": [
    "# ~ 1min\n",
    "import json\n",
    "import webcolors\n",
    "\n",
    "class ListMovingVehicle(vqpy.QueryBase):\n",
    "    \"\"\"The class obtaining all moving vehicles\"\"\"\n",
    "    @staticmethod\n",
    "    def setting() -> vqpy.VObjConstraint:\n",
    "        filter_cons = {'__class__': lambda x: x == Vehicle,\n",
    "                       'bbox_velocity': lambda x: x >= 0.1}\n",
    "        select_cons = {'track_id': None,\n",
    "                       'license_plate': None}\n",
    "        return vqpy.VObjConstraint(filter_cons=filter_cons,\n",
    "                                   select_cons=select_cons,\n",
    "                                   filename='moving')\n",
    "\n",
    "class ListMovingVehicleWithPlate(ListMovingVehicle):\n",
    "    @staticmethod\n",
    "    def setting() -> vqpy.VObjConstraint:\n",
    "        filter_cons = {'image': lambda x: x is not None,\n",
    "                       'license_plate': lambda x: x is not None}\n",
    "        select_cons = {'track_id': None,\n",
    "                       'license_plate': None,\n",
    "                       'class_id': lambda x: vqpy.COCO_CLASSES[x],\n",
    "                       'major_color_rgb': webcolors.rgb_to_name}\n",
    "        return vqpy.VObjConstraint(filter_cons=filter_cons,\n",
    "                                   select_cons=select_cons,\n",
    "                                   filename='moving')\n",
    "\n",
    "vqpy.launch(cls_name=vqpy.COCO_CLASSES,\n",
    "            cls_type={\"car\": Vehicle, \"truck\": Vehicle},\n",
    "            tasks=[ListMovingVehicleWithPlate()],\n",
    "            video_path='videos/demo.mp4',\n",
    "            save_folder='vqpy_outputs/demo')"
   ]
  },
  {
   "cell_type": "code",
   "execution_count": null,
   "metadata": {},
   "outputs": [],
   "source": [
    "data = json.load(open('vqpy_outputs/demo/moving.json'))\n",
    "print(json.dumps(data, indent=4))"
   ]
  },
  {
   "cell_type": "code",
   "execution_count": null,
   "metadata": {},
   "outputs": [],
   "source": [
    "# ~1.5min\n",
    "\n",
    "class ListRedMovingCar(ListMovingVehicle):\n",
    "    \"\"\"The class obtaining all red moving vehicles\"\"\"\n",
    "    @staticmethod\n",
    "    def setting() -> vqpy.VObjConstraint:\n",
    "        import webcolors\n",
    "\n",
    "        def rgb_is_red(color):\n",
    "            if color is None:\n",
    "                return False\n",
    "            color = np.asarray(color)\n",
    "            return color[0] ** 2 > sum(color * color) * 0.7\n",
    "\n",
    "        filter_cons = {'major_color_rgb': rgb_is_red}\n",
    "        select_cons = {'track_id': None,\n",
    "                       'license_plate': None,\n",
    "                       'class_id': lambda x: vqpy.COCO_CLASSES[x],\n",
    "                       'major_color_rgb': webcolors.rgb_to_name}\n",
    "        return vqpy.VObjConstraint(select_cons=select_cons,\n",
    "                                   filter_cons=filter_cons,\n",
    "                                   filename=\"redmoving\")\n",
    "\n",
    "vqpy.launch(cls_name=vqpy.COCO_CLASSES,\n",
    "            cls_type={\"car\": Vehicle},\n",
    "            tasks=[ListRedMovingCar()],\n",
    "            video_path='videos/demo.mp4',\n",
    "            save_folder='vqpy_outputs/demo')"
   ]
  },
  {
   "cell_type": "code",
   "execution_count": null,
   "metadata": {},
   "outputs": [],
   "source": [
    "data = json.load(open('vqpy_outputs/demo/redmoving.json'))\n",
    "print(json.dumps(data, indent=4))"
   ]
  },
  {
   "cell_type": "code",
   "execution_count": null,
   "metadata": {},
   "outputs": [],
   "source": [
    "data = json.load(open('vqpy_outputs/count_person/count.json'))\n",
    "print(json.dumps(data, indent=4))"
   ]
  },
  {
   "cell_type": "code",
   "execution_count": null,
   "metadata": {},
   "outputs": [],
   "source": [
    "print(open('examples/count_person/main.py', 'r').read())"
   ]
  },
  {
   "cell_type": "code",
   "execution_count": null,
   "metadata": {},
   "outputs": [],
   "source": []
  }
 ],
 "metadata": {
  "kernelspec": {
   "display_name": "Python 3 (ipykernel)",
   "language": "python",
   "name": "python3"
  },
  "language_info": {
   "codemirror_mode": {
    "name": "ipython",
    "version": 3
   },
   "file_extension": ".py",
   "mimetype": "text/x-python",
   "name": "python",
   "nbconvert_exporter": "python",
   "pygments_lexer": "ipython3",
   "version": "3.8.10"
  }
 },
 "nbformat": 4,
 "nbformat_minor": 2
}
